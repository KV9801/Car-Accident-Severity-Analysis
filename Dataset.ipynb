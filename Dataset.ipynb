{
 "cells": [
  {
   "cell_type": "code",
   "execution_count": 3,
   "id": "af94a414",
   "metadata": {
    "ExecuteTime": {
     "end_time": "2022-04-27T03:06:56.980792Z",
     "start_time": "2022-04-27T03:06:24.993195Z"
    }
   },
   "outputs": [],
   "source": [
    "import pandas as pd \n",
    "\n",
    "data = pd.read_csv(\"C:/Users/rauts/Documents/CS 533 DIVA/project/Project Code/US_Accidents_Dec21_updated.csv\") \n",
    "\n",
    "#data=data.head()"
   ]
  },
  {
   "cell_type": "code",
   "execution_count": 4,
   "id": "7600f278",
   "metadata": {
    "ExecuteTime": {
     "end_time": "2022-04-27T03:06:57.036597Z",
     "start_time": "2022-04-27T03:06:56.980792Z"
    }
   },
   "outputs": [],
   "source": [
    "data['Start_Time2'] = data['Start_Time']"
   ]
  },
  {
   "cell_type": "code",
   "execution_count": 5,
   "id": "4d1cfcf5",
   "metadata": {
    "ExecuteTime": {
     "end_time": "2022-04-27T03:07:00.173790Z",
     "start_time": "2022-04-27T03:06:57.036597Z"
    }
   },
   "outputs": [],
   "source": [
    "data['Start_Time']= pd.to_datetime(data['Start_Time']).dt.date"
   ]
  },
  {
   "cell_type": "code",
   "execution_count": 6,
   "id": "5e7a1eed",
   "metadata": {
    "ExecuteTime": {
     "end_time": "2022-04-27T03:07:00.222412Z",
     "start_time": "2022-04-27T03:07:00.173790Z"
    }
   },
   "outputs": [
    {
     "data": {
      "text/plain": [
       "0          2016-02-08\n",
       "1          2016-02-08\n",
       "2          2016-02-08\n",
       "3          2016-02-08\n",
       "4          2016-02-08\n",
       "              ...    \n",
       "2845337    2019-08-23\n",
       "2845338    2019-08-23\n",
       "2845339    2019-08-23\n",
       "2845340    2019-08-23\n",
       "2845341    2019-08-23\n",
       "Name: Start_Time, Length: 2845342, dtype: object"
      ]
     },
     "execution_count": 6,
     "metadata": {},
     "output_type": "execute_result"
    }
   ],
   "source": [
    "data['Start_Time']"
   ]
  },
  {
   "cell_type": "code",
   "execution_count": 7,
   "id": "fcc38371",
   "metadata": {
    "ExecuteTime": {
     "end_time": "2022-04-27T03:07:00.237756Z",
     "start_time": "2022-04-27T03:07:00.223409Z"
    }
   },
   "outputs": [
    {
     "data": {
      "text/plain": [
       "0          2016-02-08 00:37:08\n",
       "1          2016-02-08 05:56:20\n",
       "2          2016-02-08 06:15:39\n",
       "3          2016-02-08 06:51:45\n",
       "4          2016-02-08 07:53:43\n",
       "                  ...         \n",
       "2845337    2019-08-23 18:03:25\n",
       "2845338    2019-08-23 19:11:30\n",
       "2845339    2019-08-23 19:00:21\n",
       "2845340    2019-08-23 19:00:21\n",
       "2845341    2019-08-23 18:52:06\n",
       "Name: Start_Time2, Length: 2845342, dtype: object"
      ]
     },
     "execution_count": 7,
     "metadata": {},
     "output_type": "execute_result"
    }
   ],
   "source": [
    "data['Start_Time2']"
   ]
  },
  {
   "cell_type": "code",
   "execution_count": 8,
   "id": "8d338813",
   "metadata": {
    "ExecuteTime": {
     "end_time": "2022-04-27T03:07:02.322969Z",
     "start_time": "2022-04-27T03:07:00.240748Z"
    }
   },
   "outputs": [],
   "source": [
    "import datetime\n",
    "\n",
    "newdata=data[(data['Start_Time']>=datetime.date(2021,1,1)) & (data['Start_Time']<datetime.date(2022,1,1))]"
   ]
  },
  {
   "cell_type": "code",
   "execution_count": 9,
   "id": "898ba6b2",
   "metadata": {
    "ExecuteTime": {
     "end_time": "2022-04-27T03:07:03.641252Z",
     "start_time": "2022-04-27T03:07:02.322969Z"
    }
   },
   "outputs": [
    {
     "data": {
      "text/html": [
       "<div>\n",
       "<style scoped>\n",
       "    .dataframe tbody tr th:only-of-type {\n",
       "        vertical-align: middle;\n",
       "    }\n",
       "\n",
       "    .dataframe tbody tr th {\n",
       "        vertical-align: top;\n",
       "    }\n",
       "\n",
       "    .dataframe thead th {\n",
       "        text-align: right;\n",
       "    }\n",
       "</style>\n",
       "<table border=\"1\" class=\"dataframe\">\n",
       "  <thead>\n",
       "    <tr style=\"text-align: right;\">\n",
       "      <th></th>\n",
       "      <th>ID</th>\n",
       "      <th>Severity</th>\n",
       "      <th>Start_Time</th>\n",
       "      <th>End_Time</th>\n",
       "      <th>Start_Lat</th>\n",
       "      <th>Start_Lng</th>\n",
       "      <th>End_Lat</th>\n",
       "      <th>End_Lng</th>\n",
       "      <th>Distance(mi)</th>\n",
       "      <th>Description</th>\n",
       "      <th>...</th>\n",
       "      <th>Station</th>\n",
       "      <th>Stop</th>\n",
       "      <th>Traffic_Calming</th>\n",
       "      <th>Traffic_Signal</th>\n",
       "      <th>Turning_Loop</th>\n",
       "      <th>Sunrise_Sunset</th>\n",
       "      <th>Civil_Twilight</th>\n",
       "      <th>Nautical_Twilight</th>\n",
       "      <th>Astronomical_Twilight</th>\n",
       "      <th>Start_Time2</th>\n",
       "    </tr>\n",
       "  </thead>\n",
       "  <tbody>\n",
       "    <tr>\n",
       "      <th>224945</th>\n",
       "      <td>A-224946</td>\n",
       "      <td>2</td>\n",
       "      <td>2021-03-10</td>\n",
       "      <td>2021-03-11 05:28:02</td>\n",
       "      <td>42.382359</td>\n",
       "      <td>-71.022318</td>\n",
       "      <td>42.383346</td>\n",
       "      <td>-71.021204</td>\n",
       "      <td>0.089</td>\n",
       "      <td>RT-1A Both Directions 0.20 mi. before Curtis St</td>\n",
       "      <td>...</td>\n",
       "      <td>False</td>\n",
       "      <td>False</td>\n",
       "      <td>False</td>\n",
       "      <td>False</td>\n",
       "      <td>False</td>\n",
       "      <td>Night</td>\n",
       "      <td>Night</td>\n",
       "      <td>Night</td>\n",
       "      <td>Night</td>\n",
       "      <td>2021-03-10 19:57:00</td>\n",
       "    </tr>\n",
       "    <tr>\n",
       "      <th>224946</th>\n",
       "      <td>A-224947</td>\n",
       "      <td>2</td>\n",
       "      <td>2021-07-30</td>\n",
       "      <td>2021-07-31 03:22:58</td>\n",
       "      <td>40.908676</td>\n",
       "      <td>-123.707116</td>\n",
       "      <td>40.904856</td>\n",
       "      <td>-123.740056</td>\n",
       "      <td>1.740</td>\n",
       "      <td>Accident on CA-96 (CA-299) from CR-7K100/Titlo...</td>\n",
       "      <td>...</td>\n",
       "      <td>False</td>\n",
       "      <td>False</td>\n",
       "      <td>False</td>\n",
       "      <td>False</td>\n",
       "      <td>False</td>\n",
       "      <td>Night</td>\n",
       "      <td>Night</td>\n",
       "      <td>Night</td>\n",
       "      <td>Night</td>\n",
       "      <td>2021-07-30 23:37:00</td>\n",
       "    </tr>\n",
       "    <tr>\n",
       "      <th>224947</th>\n",
       "      <td>A-224948</td>\n",
       "      <td>2</td>\n",
       "      <td>2021-10-15</td>\n",
       "      <td>2021-10-15 17:02:36</td>\n",
       "      <td>38.970628</td>\n",
       "      <td>-77.116333</td>\n",
       "      <td>38.973149</td>\n",
       "      <td>-77.121876</td>\n",
       "      <td>0.345</td>\n",
       "      <td>Stationary traffic on MD-190 from Dorset Ave (...</td>\n",
       "      <td>...</td>\n",
       "      <td>True</td>\n",
       "      <td>False</td>\n",
       "      <td>False</td>\n",
       "      <td>False</td>\n",
       "      <td>False</td>\n",
       "      <td>Day</td>\n",
       "      <td>Day</td>\n",
       "      <td>Day</td>\n",
       "      <td>Day</td>\n",
       "      <td>2021-10-15 16:42:36</td>\n",
       "    </tr>\n",
       "    <tr>\n",
       "      <th>224948</th>\n",
       "      <td>A-224949</td>\n",
       "      <td>2</td>\n",
       "      <td>2021-12-21</td>\n",
       "      <td>2021-12-21 12:21:00</td>\n",
       "      <td>47.642651</td>\n",
       "      <td>-122.318590</td>\n",
       "      <td>47.643411</td>\n",
       "      <td>-122.308460</td>\n",
       "      <td>0.474</td>\n",
       "      <td>Slow traffic on WA-520 E from I-5/Roanoke St/H...</td>\n",
       "      <td>...</td>\n",
       "      <td>False</td>\n",
       "      <td>False</td>\n",
       "      <td>False</td>\n",
       "      <td>False</td>\n",
       "      <td>False</td>\n",
       "      <td>Day</td>\n",
       "      <td>Day</td>\n",
       "      <td>Day</td>\n",
       "      <td>Day</td>\n",
       "      <td>2021-12-21 11:42:00</td>\n",
       "    </tr>\n",
       "    <tr>\n",
       "      <th>224949</th>\n",
       "      <td>A-224950</td>\n",
       "      <td>2</td>\n",
       "      <td>2021-12-09</td>\n",
       "      <td>2021-12-09 11:01:22</td>\n",
       "      <td>37.419536</td>\n",
       "      <td>-122.090640</td>\n",
       "      <td>37.410966</td>\n",
       "      <td>-122.076087</td>\n",
       "      <td>0.994</td>\n",
       "      <td>Accident on Amphitheatre Pkwy (US-101) from Sh...</td>\n",
       "      <td>...</td>\n",
       "      <td>False</td>\n",
       "      <td>False</td>\n",
       "      <td>False</td>\n",
       "      <td>False</td>\n",
       "      <td>False</td>\n",
       "      <td>Day</td>\n",
       "      <td>Day</td>\n",
       "      <td>Day</td>\n",
       "      <td>Day</td>\n",
       "      <td>2021-12-09 08:51:00</td>\n",
       "    </tr>\n",
       "    <tr>\n",
       "      <th>...</th>\n",
       "      <td>...</td>\n",
       "      <td>...</td>\n",
       "      <td>...</td>\n",
       "      <td>...</td>\n",
       "      <td>...</td>\n",
       "      <td>...</td>\n",
       "      <td>...</td>\n",
       "      <td>...</td>\n",
       "      <td>...</td>\n",
       "      <td>...</td>\n",
       "      <td>...</td>\n",
       "      <td>...</td>\n",
       "      <td>...</td>\n",
       "      <td>...</td>\n",
       "      <td>...</td>\n",
       "      <td>...</td>\n",
       "      <td>...</td>\n",
       "      <td>...</td>\n",
       "      <td>...</td>\n",
       "      <td>...</td>\n",
       "      <td>...</td>\n",
       "    </tr>\n",
       "    <tr>\n",
       "      <th>2068385</th>\n",
       "      <td>A-2068386</td>\n",
       "      <td>2</td>\n",
       "      <td>2021-01-01</td>\n",
       "      <td>2021-01-01 01:20:44</td>\n",
       "      <td>33.932945</td>\n",
       "      <td>-118.280711</td>\n",
       "      <td>33.929954</td>\n",
       "      <td>-118.281052</td>\n",
       "      <td>0.208</td>\n",
       "      <td>Incident on I-110 SB near IMPERIAL HWY Drive w...</td>\n",
       "      <td>...</td>\n",
       "      <td>False</td>\n",
       "      <td>False</td>\n",
       "      <td>False</td>\n",
       "      <td>False</td>\n",
       "      <td>False</td>\n",
       "      <td>Night</td>\n",
       "      <td>Night</td>\n",
       "      <td>Night</td>\n",
       "      <td>Night</td>\n",
       "      <td>2021-01-01 00:04:00</td>\n",
       "    </tr>\n",
       "    <tr>\n",
       "      <th>2068522</th>\n",
       "      <td>A-2068523</td>\n",
       "      <td>2</td>\n",
       "      <td>2021-01-01</td>\n",
       "      <td>2021-01-01 03:51:09</td>\n",
       "      <td>34.172340</td>\n",
       "      <td>-118.532685</td>\n",
       "      <td>34.173440</td>\n",
       "      <td>-118.539715</td>\n",
       "      <td>0.409</td>\n",
       "      <td>AT. UNK MAKE OR COLOR OF VICT VEH THE SV HIT A...</td>\n",
       "      <td>...</td>\n",
       "      <td>False</td>\n",
       "      <td>False</td>\n",
       "      <td>False</td>\n",
       "      <td>False</td>\n",
       "      <td>False</td>\n",
       "      <td>Night</td>\n",
       "      <td>Night</td>\n",
       "      <td>Night</td>\n",
       "      <td>Night</td>\n",
       "      <td>2021-01-01 01:42:00</td>\n",
       "    </tr>\n",
       "    <tr>\n",
       "      <th>2068635</th>\n",
       "      <td>A-2068636</td>\n",
       "      <td>2</td>\n",
       "      <td>2021-01-01</td>\n",
       "      <td>2021-01-01 05:00:33</td>\n",
       "      <td>44.069885</td>\n",
       "      <td>-121.306432</td>\n",
       "      <td>44.067645</td>\n",
       "      <td>-121.307392</td>\n",
       "      <td>0.162</td>\n",
       "      <td>An unconfirmed report of hazardous debris has ...</td>\n",
       "      <td>...</td>\n",
       "      <td>False</td>\n",
       "      <td>False</td>\n",
       "      <td>False</td>\n",
       "      <td>False</td>\n",
       "      <td>False</td>\n",
       "      <td>Night</td>\n",
       "      <td>Night</td>\n",
       "      <td>Night</td>\n",
       "      <td>Night</td>\n",
       "      <td>2021-01-01 03:00:33</td>\n",
       "    </tr>\n",
       "    <tr>\n",
       "      <th>2068931</th>\n",
       "      <td>A-2068932</td>\n",
       "      <td>2</td>\n",
       "      <td>2021-01-01</td>\n",
       "      <td>2021-01-01 06:15:49</td>\n",
       "      <td>37.998126</td>\n",
       "      <td>-121.811133</td>\n",
       "      <td>37.997990</td>\n",
       "      <td>-121.810109</td>\n",
       "      <td>0.057</td>\n",
       "      <td>EB 4 ON A ST OFR. [Notification] [CHP]-Problem...</td>\n",
       "      <td>...</td>\n",
       "      <td>False</td>\n",
       "      <td>False</td>\n",
       "      <td>False</td>\n",
       "      <td>False</td>\n",
       "      <td>False</td>\n",
       "      <td>Night</td>\n",
       "      <td>Night</td>\n",
       "      <td>Night</td>\n",
       "      <td>Night</td>\n",
       "      <td>2021-01-01 02:26:00</td>\n",
       "    </tr>\n",
       "    <tr>\n",
       "      <th>2069159</th>\n",
       "      <td>A-2069160</td>\n",
       "      <td>2</td>\n",
       "      <td>2021-01-01</td>\n",
       "      <td>2021-01-01 04:35:39</td>\n",
       "      <td>29.736587</td>\n",
       "      <td>-95.588534</td>\n",
       "      <td>29.736589</td>\n",
       "      <td>-95.588703</td>\n",
       "      <td>0.010</td>\n",
       "      <td>Incident on WESTHEIMER RD near S KIRKWOOD RD D...</td>\n",
       "      <td>...</td>\n",
       "      <td>False</td>\n",
       "      <td>False</td>\n",
       "      <td>False</td>\n",
       "      <td>True</td>\n",
       "      <td>False</td>\n",
       "      <td>Night</td>\n",
       "      <td>Night</td>\n",
       "      <td>Night</td>\n",
       "      <td>Night</td>\n",
       "      <td>2021-01-01 01:35:38</td>\n",
       "    </tr>\n",
       "  </tbody>\n",
       "</table>\n",
       "<p>1511745 rows × 48 columns</p>\n",
       "</div>"
      ],
      "text/plain": [
       "                ID  Severity  Start_Time             End_Time  Start_Lat  \\\n",
       "224945    A-224946         2  2021-03-10  2021-03-11 05:28:02  42.382359   \n",
       "224946    A-224947         2  2021-07-30  2021-07-31 03:22:58  40.908676   \n",
       "224947    A-224948         2  2021-10-15  2021-10-15 17:02:36  38.970628   \n",
       "224948    A-224949         2  2021-12-21  2021-12-21 12:21:00  47.642651   \n",
       "224949    A-224950         2  2021-12-09  2021-12-09 11:01:22  37.419536   \n",
       "...            ...       ...         ...                  ...        ...   \n",
       "2068385  A-2068386         2  2021-01-01  2021-01-01 01:20:44  33.932945   \n",
       "2068522  A-2068523         2  2021-01-01  2021-01-01 03:51:09  34.172340   \n",
       "2068635  A-2068636         2  2021-01-01  2021-01-01 05:00:33  44.069885   \n",
       "2068931  A-2068932         2  2021-01-01  2021-01-01 06:15:49  37.998126   \n",
       "2069159  A-2069160         2  2021-01-01  2021-01-01 04:35:39  29.736587   \n",
       "\n",
       "          Start_Lng    End_Lat     End_Lng  Distance(mi)  \\\n",
       "224945   -71.022318  42.383346  -71.021204         0.089   \n",
       "224946  -123.707116  40.904856 -123.740056         1.740   \n",
       "224947   -77.116333  38.973149  -77.121876         0.345   \n",
       "224948  -122.318590  47.643411 -122.308460         0.474   \n",
       "224949  -122.090640  37.410966 -122.076087         0.994   \n",
       "...             ...        ...         ...           ...   \n",
       "2068385 -118.280711  33.929954 -118.281052         0.208   \n",
       "2068522 -118.532685  34.173440 -118.539715         0.409   \n",
       "2068635 -121.306432  44.067645 -121.307392         0.162   \n",
       "2068931 -121.811133  37.997990 -121.810109         0.057   \n",
       "2069159  -95.588534  29.736589  -95.588703         0.010   \n",
       "\n",
       "                                               Description  ...  Station  \\\n",
       "224945     RT-1A Both Directions 0.20 mi. before Curtis St  ...    False   \n",
       "224946   Accident on CA-96 (CA-299) from CR-7K100/Titlo...  ...    False   \n",
       "224947   Stationary traffic on MD-190 from Dorset Ave (...  ...     True   \n",
       "224948   Slow traffic on WA-520 E from I-5/Roanoke St/H...  ...    False   \n",
       "224949   Accident on Amphitheatre Pkwy (US-101) from Sh...  ...    False   \n",
       "...                                                    ...  ...      ...   \n",
       "2068385  Incident on I-110 SB near IMPERIAL HWY Drive w...  ...    False   \n",
       "2068522  AT. UNK MAKE OR COLOR OF VICT VEH THE SV HIT A...  ...    False   \n",
       "2068635  An unconfirmed report of hazardous debris has ...  ...    False   \n",
       "2068931  EB 4 ON A ST OFR. [Notification] [CHP]-Problem...  ...    False   \n",
       "2069159  Incident on WESTHEIMER RD near S KIRKWOOD RD D...  ...    False   \n",
       "\n",
       "          Stop Traffic_Calming Traffic_Signal Turning_Loop Sunrise_Sunset  \\\n",
       "224945   False           False          False        False          Night   \n",
       "224946   False           False          False        False          Night   \n",
       "224947   False           False          False        False            Day   \n",
       "224948   False           False          False        False            Day   \n",
       "224949   False           False          False        False            Day   \n",
       "...        ...             ...            ...          ...            ...   \n",
       "2068385  False           False          False        False          Night   \n",
       "2068522  False           False          False        False          Night   \n",
       "2068635  False           False          False        False          Night   \n",
       "2068931  False           False          False        False          Night   \n",
       "2069159  False           False           True        False          Night   \n",
       "\n",
       "        Civil_Twilight Nautical_Twilight Astronomical_Twilight  \\\n",
       "224945           Night             Night                 Night   \n",
       "224946           Night             Night                 Night   \n",
       "224947             Day               Day                   Day   \n",
       "224948             Day               Day                   Day   \n",
       "224949             Day               Day                   Day   \n",
       "...                ...               ...                   ...   \n",
       "2068385          Night             Night                 Night   \n",
       "2068522          Night             Night                 Night   \n",
       "2068635          Night             Night                 Night   \n",
       "2068931          Night             Night                 Night   \n",
       "2069159          Night             Night                 Night   \n",
       "\n",
       "                 Start_Time2  \n",
       "224945   2021-03-10 19:57:00  \n",
       "224946   2021-07-30 23:37:00  \n",
       "224947   2021-10-15 16:42:36  \n",
       "224948   2021-12-21 11:42:00  \n",
       "224949   2021-12-09 08:51:00  \n",
       "...                      ...  \n",
       "2068385  2021-01-01 00:04:00  \n",
       "2068522  2021-01-01 01:42:00  \n",
       "2068635  2021-01-01 03:00:33  \n",
       "2068931  2021-01-01 02:26:00  \n",
       "2069159  2021-01-01 01:35:38  \n",
       "\n",
       "[1511745 rows x 48 columns]"
      ]
     },
     "execution_count": 9,
     "metadata": {},
     "output_type": "execute_result"
    }
   ],
   "source": [
    "newdata"
   ]
  },
  {
   "cell_type": "code",
   "execution_count": 10,
   "id": "2e107f98",
   "metadata": {
    "ExecuteTime": {
     "end_time": "2022-04-27T03:08:06.622270Z",
     "start_time": "2022-04-27T03:07:22.064165Z"
    }
   },
   "outputs": [],
   "source": [
    "\n",
    "newdata.to_csv(r\"C:\\Users\\rauts\\Documents\\CS 533 DIVA\\project\\Project Code\\US_Accidents_2021_new2.csv\",index=False)"
   ]
  },
  {
   "cell_type": "code",
   "execution_count": 7,
   "id": "7877a8b6",
   "metadata": {
    "ExecuteTime": {
     "end_time": "2022-04-21T20:52:43.461073Z",
     "start_time": "2022-04-21T20:52:42.403906Z"
    }
   },
   "outputs": [
    {
     "data": {
      "text/plain": [
       "1193112"
      ]
     },
     "execution_count": 7,
     "metadata": {},
     "output_type": "execute_result"
    }
   ],
   "source": [
    "newdata.isna().sum().sum()"
   ]
  },
  {
   "cell_type": "code",
   "execution_count": 8,
   "id": "694299f7",
   "metadata": {
    "ExecuteTime": {
     "end_time": "2022-04-21T20:52:47.789235Z",
     "start_time": "2022-04-21T20:52:47.772280Z"
    }
   },
   "outputs": [
    {
     "name": "stdout",
     "output_type": "stream",
     "text": [
      "61568598\n"
     ]
    }
   ],
   "source": [
    "print(1256502*49)"
   ]
  },
  {
   "cell_type": "code",
   "execution_count": 18,
   "id": "110d64bd",
   "metadata": {
    "ExecuteTime": {
     "end_time": "2022-04-21T21:05:17.421137Z",
     "start_time": "2022-04-21T21:05:17.383239Z"
    }
   },
   "outputs": [
    {
     "data": {
      "text/plain": [
       "224945     2021-03-10\n",
       "224946     2021-07-30\n",
       "224947     2021-10-15\n",
       "224948     2021-12-21\n",
       "224949     2021-12-09\n",
       "              ...    \n",
       "2068385    2021-01-01\n",
       "2068522    2021-01-01\n",
       "2068635    2021-01-01\n",
       "2068931    2021-01-01\n",
       "2069159    2021-01-01\n",
       "Name: Start_Time, Length: 1511745, dtype: object"
      ]
     },
     "execution_count": 18,
     "metadata": {},
     "output_type": "execute_result"
    }
   ],
   "source": [
    "newdata['Start_Time']"
   ]
  },
  {
   "cell_type": "code",
   "execution_count": null,
   "id": "a0530e79",
   "metadata": {},
   "outputs": [],
   "source": []
  }
 ],
 "metadata": {
  "kernelspec": {
   "display_name": "Python 3 (ipykernel)",
   "language": "python",
   "name": "python3"
  },
  "language_info": {
   "codemirror_mode": {
    "name": "ipython",
    "version": 3
   },
   "file_extension": ".py",
   "mimetype": "text/x-python",
   "name": "python",
   "nbconvert_exporter": "python",
   "pygments_lexer": "ipython3",
   "version": "3.8.12"
  }
 },
 "nbformat": 4,
 "nbformat_minor": 5
}
